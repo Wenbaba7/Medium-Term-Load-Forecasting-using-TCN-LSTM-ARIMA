{
 "cells": [
  {
   "cell_type": "markdown",
   "id": "UhAqwKy_6-Ig",
   "metadata": {
    "id": "UhAqwKy_6-Ig"
   },
   "source": [
    "#**ARIMA MODEL**"
   ]
  },
  {
   "cell_type": "markdown",
   "id": "uMqq7bl97D20",
   "metadata": {
    "id": "uMqq7bl97D20"
   },
   "source": [
    "#**Preprocessing**"
   ]
  },
  {
   "cell_type": "code",
   "id": "8b557d86",
   "metadata": {
    "colab": {
     "base_uri": "https://localhost:8080/",
     "height": 749
    },
    "id": "8b557d86",
    "outputId": "9686a892-8f99-4ddd-ff61-605b0fdfade8",
    "ExecuteTime": {
     "end_time": "2024-09-04T05:41:28.398458Z",
     "start_time": "2024-09-04T05:41:22.598950Z"
    }
   },
   "source": [
    "#!pip install pmdarima\n",
    "#Should be run once so that ARIMA can run on Colab\n",
    "import pandas.testing as tm\n",
    "import pandas as pd\n",
    "import numpy as np\n",
    "import matplotlib.pyplot as plt\n",
    "import warnings\n",
    "from datetime import datetime\n",
    "from sklearn.model_selection import train_test_split\n",
    "from statsmodels.tsa.arima_model import ARIMA\n",
    "from statsmodels.tsa.stattools import adfuller\n",
    "from statsmodels.tsa.statespace.sarimax import SARIMAX\n",
    "from sklearn.metrics import mean_squared_error\n",
    "!pip install pmdarima\n",
    "from pmdarima.utils import diff_inv\n",
    "from pmdarima.arima.utils import ndiffs\n",
    "from pmdarima import auto_arima\n",
    "from math import sqrt\n",
    "df=pd.read_csv('Data/building-electrical-energy-daily-use-ubcv-2019-2021.csv');\n",
    "temperature=pd.read_csv('Data/Temperature.csv')\n",
    "columns = df.columns;\n",
    "df.head()"
   ],
   "outputs": [
    {
     "name": "stderr",
     "output_type": "stream",
     "text": [
      "\n",
      "[notice] A new release of pip is available: 24.0 -> 24.2\n",
      "[notice] To update, run: python.exe -m pip install --upgrade pip\n"
     ]
    },
    {
     "name": "stdout",
     "output_type": "stream",
     "text": [
      "Requirement already satisfied: pmdarima in d:\\python\\python3.12\\lib\\site-packages (2.0.4)\n",
      "Requirement already satisfied: joblib>=0.11 in d:\\python\\python3.12\\lib\\site-packages (from pmdarima) (1.4.2)\n",
      "Requirement already satisfied: Cython!=0.29.18,!=0.29.31,>=0.29 in d:\\python\\python3.12\\lib\\site-packages (from pmdarima) (0.29.24)\n",
      "Requirement already satisfied: numpy>=1.21.2 in d:\\python\\python3.12\\lib\\site-packages (from pmdarima) (2.0.1)\n",
      "Requirement already satisfied: pandas>=0.19 in d:\\python\\python3.12\\lib\\site-packages (from pmdarima) (2.2.2)\n",
      "Requirement already satisfied: scikit-learn>=0.22 in d:\\python\\python3.12\\lib\\site-packages (from pmdarima) (1.5.1)\n",
      "Requirement already satisfied: scipy>=1.3.2 in d:\\python\\python3.12\\lib\\site-packages (from pmdarima) (1.14.0)\n",
      "Requirement already satisfied: statsmodels>=0.13.2 in d:\\python\\python3.12\\lib\\site-packages (from pmdarima) (0.14.2)\n",
      "Requirement already satisfied: urllib3 in d:\\python\\python3.12\\lib\\site-packages (from pmdarima) (2.2.2)\n",
      "Requirement already satisfied: setuptools!=50.0.0,>=38.6.0 in d:\\python\\python3.12\\lib\\site-packages (from pmdarima) (72.1.0)\n",
      "Requirement already satisfied: packaging>=17.1 in d:\\python\\python3.12\\lib\\site-packages (from pmdarima) (24.1)\n",
      "Requirement already satisfied: python-dateutil>=2.8.2 in d:\\python\\python3.12\\lib\\site-packages (from pandas>=0.19->pmdarima) (2.9.0.post0)\n",
      "Requirement already satisfied: pytz>=2020.1 in d:\\python\\python3.12\\lib\\site-packages (from pandas>=0.19->pmdarima) (2024.1)\n",
      "Requirement already satisfied: tzdata>=2022.7 in d:\\python\\python3.12\\lib\\site-packages (from pandas>=0.19->pmdarima) (2024.1)\n",
      "Requirement already satisfied: threadpoolctl>=3.1.0 in d:\\python\\python3.12\\lib\\site-packages (from scikit-learn>=0.22->pmdarima) (3.5.0)\n",
      "Requirement already satisfied: patsy>=0.5.6 in d:\\python\\python3.12\\lib\\site-packages (from statsmodels>=0.13.2->pmdarima) (0.5.6)\n",
      "Requirement already satisfied: six in d:\\python\\python3.12\\lib\\site-packages (from patsy>=0.5.6->statsmodels>=0.13.2->pmdarima) (1.16.0)\n"
     ]
    },
    {
     "ename": "ValueError",
     "evalue": "numpy.dtype size changed, may indicate binary incompatibility. Expected 96 from C header, got 88 from PyObject",
     "output_type": "error",
     "traceback": [
      "\u001B[1;31m---------------------------------------------------------------------------\u001B[0m",
      "\u001B[1;31mValueError\u001B[0m                                Traceback (most recent call last)",
      "Cell \u001B[1;32mIn[10], line 15\u001B[0m\n\u001B[0;32m     13\u001B[0m \u001B[38;5;28;01mfrom\u001B[39;00m \u001B[38;5;21;01msklearn\u001B[39;00m\u001B[38;5;21;01m.\u001B[39;00m\u001B[38;5;21;01mmetrics\u001B[39;00m \u001B[38;5;28;01mimport\u001B[39;00m mean_squared_error\n\u001B[0;32m     14\u001B[0m get_ipython()\u001B[38;5;241m.\u001B[39msystem(\u001B[38;5;124m'\u001B[39m\u001B[38;5;124mpip install pmdarima\u001B[39m\u001B[38;5;124m'\u001B[39m)\n\u001B[1;32m---> 15\u001B[0m \u001B[38;5;28;01mfrom\u001B[39;00m \u001B[38;5;21;01mpmdarima\u001B[39;00m\u001B[38;5;21;01m.\u001B[39;00m\u001B[38;5;21;01mutils\u001B[39;00m \u001B[38;5;28;01mimport\u001B[39;00m diff_inv\n\u001B[0;32m     16\u001B[0m \u001B[38;5;28;01mfrom\u001B[39;00m \u001B[38;5;21;01mpmdarima\u001B[39;00m\u001B[38;5;21;01m.\u001B[39;00m\u001B[38;5;21;01marima\u001B[39;00m\u001B[38;5;21;01m.\u001B[39;00m\u001B[38;5;21;01mutils\u001B[39;00m \u001B[38;5;28;01mimport\u001B[39;00m ndiffs\n\u001B[0;32m     17\u001B[0m \u001B[38;5;28;01mfrom\u001B[39;00m \u001B[38;5;21;01mpmdarima\u001B[39;00m \u001B[38;5;28;01mimport\u001B[39;00m auto_arima\n",
      "File \u001B[1;32mD:\\Python\\python3.12\\Lib\\site-packages\\pmdarima\\__init__.py:52\u001B[0m\n\u001B[0;32m     49\u001B[0m \u001B[38;5;28;01mfrom\u001B[39;00m \u001B[38;5;21;01m.\u001B[39;00m \u001B[38;5;28;01mimport\u001B[39;00m __check_build\n\u001B[0;32m     51\u001B[0m \u001B[38;5;66;03m# Stuff we want at top-level\u001B[39;00m\n\u001B[1;32m---> 52\u001B[0m \u001B[38;5;28;01mfrom\u001B[39;00m \u001B[38;5;21;01m.\u001B[39;00m\u001B[38;5;21;01marima\u001B[39;00m \u001B[38;5;28;01mimport\u001B[39;00m auto_arima, ARIMA, AutoARIMA, StepwiseContext, decompose\n\u001B[0;32m     53\u001B[0m \u001B[38;5;28;01mfrom\u001B[39;00m \u001B[38;5;21;01m.\u001B[39;00m\u001B[38;5;21;01mutils\u001B[39;00m \u001B[38;5;28;01mimport\u001B[39;00m acf, autocorr_plot, c, pacf, plot_acf, plot_pacf, \\\n\u001B[0;32m     54\u001B[0m     tsdisplay\n\u001B[0;32m     55\u001B[0m \u001B[38;5;28;01mfrom\u001B[39;00m \u001B[38;5;21;01m.\u001B[39;00m\u001B[38;5;21;01mutils\u001B[39;00m\u001B[38;5;21;01m.\u001B[39;00m\u001B[38;5;21;01m_show_versions\u001B[39;00m \u001B[38;5;28;01mimport\u001B[39;00m show_versions\n",
      "File \u001B[1;32mD:\\Python\\python3.12\\Lib\\site-packages\\pmdarima\\arima\\__init__.py:5\u001B[0m\n\u001B[0;32m      1\u001B[0m \u001B[38;5;66;03m# -*- coding: utf-8 -*-\u001B[39;00m\n\u001B[0;32m      2\u001B[0m \u001B[38;5;66;03m#\u001B[39;00m\n\u001B[0;32m      3\u001B[0m \u001B[38;5;66;03m# Author: Taylor Smith <taylor.smith@alkaline-ml.com>\u001B[39;00m\n\u001B[1;32m----> 5\u001B[0m \u001B[38;5;28;01mfrom\u001B[39;00m \u001B[38;5;21;01m.\u001B[39;00m\u001B[38;5;21;01mapprox\u001B[39;00m \u001B[38;5;28;01mimport\u001B[39;00m \u001B[38;5;241m*\u001B[39m\n\u001B[0;32m      6\u001B[0m \u001B[38;5;28;01mfrom\u001B[39;00m \u001B[38;5;21;01m.\u001B[39;00m\u001B[38;5;21;01marima\u001B[39;00m \u001B[38;5;28;01mimport\u001B[39;00m \u001B[38;5;241m*\u001B[39m\n\u001B[0;32m      7\u001B[0m \u001B[38;5;28;01mfrom\u001B[39;00m \u001B[38;5;21;01m.\u001B[39;00m\u001B[38;5;21;01mauto\u001B[39;00m \u001B[38;5;28;01mimport\u001B[39;00m \u001B[38;5;241m*\u001B[39m\n",
      "File \u001B[1;32mD:\\Python\\python3.12\\Lib\\site-packages\\pmdarima\\arima\\approx.py:9\u001B[0m\n\u001B[0;32m      1\u001B[0m \u001B[38;5;66;03m# -*- coding: utf-8 -*-\u001B[39;00m\n\u001B[0;32m      2\u001B[0m \u001B[38;5;66;03m#\u001B[39;00m\n\u001B[0;32m      3\u001B[0m \u001B[38;5;66;03m# Author: Taylor Smith <taylor.smith@alkaline-ml.com>\u001B[39;00m\n\u001B[0;32m      4\u001B[0m \u001B[38;5;66;03m#\u001B[39;00m\n\u001B[0;32m      5\u001B[0m \u001B[38;5;66;03m# R approx function\u001B[39;00m\n\u001B[0;32m      7\u001B[0m \u001B[38;5;28;01mimport\u001B[39;00m \u001B[38;5;21;01mnumpy\u001B[39;00m \u001B[38;5;28;01mas\u001B[39;00m \u001B[38;5;21;01mnp\u001B[39;00m\n\u001B[1;32m----> 9\u001B[0m \u001B[38;5;28;01mfrom\u001B[39;00m \u001B[38;5;21;01m.\u001B[39;00m\u001B[38;5;21;01m.\u001B[39;00m\u001B[38;5;21;01mutils\u001B[39;00m\u001B[38;5;21;01m.\u001B[39;00m\u001B[38;5;21;01marray\u001B[39;00m \u001B[38;5;28;01mimport\u001B[39;00m c, check_endog\n\u001B[0;32m     10\u001B[0m \u001B[38;5;28;01mfrom\u001B[39;00m \u001B[38;5;21;01m.\u001B[39;00m\u001B[38;5;21;01m.\u001B[39;00m\u001B[38;5;21;01mutils\u001B[39;00m \u001B[38;5;28;01mimport\u001B[39;00m get_callable\n\u001B[0;32m     11\u001B[0m \u001B[38;5;28;01mfrom\u001B[39;00m \u001B[38;5;21;01m.\u001B[39;00m\u001B[38;5;21;01m.\u001B[39;00m\u001B[38;5;21;01mcompat\u001B[39;00m\u001B[38;5;21;01m.\u001B[39;00m\u001B[38;5;21;01mnumpy\u001B[39;00m \u001B[38;5;28;01mimport\u001B[39;00m DTYPE\n",
      "File \u001B[1;32mD:\\Python\\python3.12\\Lib\\site-packages\\pmdarima\\utils\\__init__.py:5\u001B[0m\n\u001B[0;32m      1\u001B[0m \u001B[38;5;66;03m# -*- coding: utf-8 -*-\u001B[39;00m\n\u001B[0;32m      2\u001B[0m \u001B[38;5;66;03m#\u001B[39;00m\n\u001B[0;32m      3\u001B[0m \u001B[38;5;66;03m# Author: Taylor Smith <taylor.smith@alkaline-ml.com>\u001B[39;00m\n\u001B[1;32m----> 5\u001B[0m \u001B[38;5;28;01mfrom\u001B[39;00m \u001B[38;5;21;01m.\u001B[39;00m\u001B[38;5;21;01marray\u001B[39;00m \u001B[38;5;28;01mimport\u001B[39;00m \u001B[38;5;241m*\u001B[39m\n\u001B[0;32m      6\u001B[0m \u001B[38;5;28;01mfrom\u001B[39;00m \u001B[38;5;21;01m.\u001B[39;00m\u001B[38;5;21;01mmetaestimators\u001B[39;00m \u001B[38;5;28;01mimport\u001B[39;00m \u001B[38;5;241m*\u001B[39m\n\u001B[0;32m      7\u001B[0m \u001B[38;5;28;01mfrom\u001B[39;00m \u001B[38;5;21;01m.\u001B[39;00m\u001B[38;5;21;01mvisualization\u001B[39;00m \u001B[38;5;28;01mimport\u001B[39;00m \u001B[38;5;241m*\u001B[39m\n",
      "File \u001B[1;32mD:\\Python\\python3.12\\Lib\\site-packages\\pmdarima\\utils\\array.py:13\u001B[0m\n\u001B[0;32m     10\u001B[0m \u001B[38;5;28;01mimport\u001B[39;00m \u001B[38;5;21;01mpandas\u001B[39;00m \u001B[38;5;28;01mas\u001B[39;00m \u001B[38;5;21;01mpd\u001B[39;00m\n\u001B[0;32m     12\u001B[0m \u001B[38;5;28;01mfrom\u001B[39;00m \u001B[38;5;21;01m.\u001B[39;00m\u001B[38;5;21;01m.\u001B[39;00m\u001B[38;5;21;01mcompat\u001B[39;00m \u001B[38;5;28;01mimport\u001B[39;00m DTYPE\n\u001B[1;32m---> 13\u001B[0m \u001B[38;5;28;01mfrom\u001B[39;00m \u001B[38;5;21;01m.\u001B[39;00m\u001B[38;5;21;01m_array\u001B[39;00m \u001B[38;5;28;01mimport\u001B[39;00m C_intgrt_vec\n\u001B[0;32m     15\u001B[0m __all__ \u001B[38;5;241m=\u001B[39m [\n\u001B[0;32m     16\u001B[0m     \u001B[38;5;124m'\u001B[39m\u001B[38;5;124mas_series\u001B[39m\u001B[38;5;124m'\u001B[39m,\n\u001B[0;32m     17\u001B[0m     \u001B[38;5;124m'\u001B[39m\u001B[38;5;124mc\u001B[39m\u001B[38;5;124m'\u001B[39m,\n\u001B[1;32m   (...)\u001B[0m\n\u001B[0;32m     22\u001B[0m     \u001B[38;5;124m'\u001B[39m\u001B[38;5;124mis_iterable\u001B[39m\u001B[38;5;124m'\u001B[39m\n\u001B[0;32m     23\u001B[0m ]\n\u001B[0;32m     26\u001B[0m \u001B[38;5;28;01mdef\u001B[39;00m \u001B[38;5;21mas_series\u001B[39m(x, \u001B[38;5;241m*\u001B[39m\u001B[38;5;241m*\u001B[39mkwargs):\n",
      "File \u001B[1;32mD:\\Python\\python3.12\\Lib\\site-packages\\pmdarima\\utils\\_array.pyx:1\u001B[0m, in \u001B[0;36minit pmdarima.utils._array\u001B[1;34m()\u001B[0m\n",
      "\u001B[1;31mValueError\u001B[0m: numpy.dtype size changed, may indicate binary incompatibility. Expected 96 from C header, got 88 from PyObject"
     ]
    }
   ],
   "execution_count": 10
  },
  {
   "cell_type": "code",
   "id": "3b044c3d",
   "metadata": {
    "id": "3b044c3d",
    "ExecuteTime": {
     "end_time": "2024-09-04T05:41:28.402468Z",
     "start_time": "2024-09-04T05:41:28.401468Z"
    }
   },
   "source": [
    "for i in range(1,len(df. columns)-1):\n",
    "    df[columns[i]] = df[columns[i]].fillna(df[columns[i]].mean());"
   ],
   "outputs": [],
   "execution_count": null
  },
  {
   "cell_type": "code",
   "id": "0ddf9095",
   "metadata": {
    "id": "0ddf9095"
   },
   "source": [
    "df[\"Total Energy Consumption\"] = df[columns[1:]].sum(axis = 1);"
   ],
   "outputs": [],
   "execution_count": null
  },
  {
   "cell_type": "code",
   "id": "275b6141",
   "metadata": {
    "id": "275b6141"
   },
   "source": [
    "for i in range(1,len(columns)):\n",
    "    df = df.drop(columns[i], axis = 1)"
   ],
   "outputs": [],
   "execution_count": null
  },
  {
   "cell_type": "code",
   "id": "ae678865",
   "metadata": {
    "id": "ae678865"
   },
   "source": [
    "for i in range(0,len(df[\"Date\"])):\n",
    "    df.loc[ i,'Date']= datetime.strptime(df[\"Date\"].loc[i], '%m/%d/%Y');"
   ],
   "outputs": [],
   "execution_count": null
  },
  {
   "cell_type": "code",
   "id": "932e97cc",
   "metadata": {
    "id": "932e97cc"
   },
   "source": [
    "df[\"Date\"] = pd.to_datetime(df[\"Date\"])\n",
    "\n",
    "#Date features\n",
    "df[\"Day\"] = df[\"Date\"].dt.dayofweek\n",
    "df[\"Month\"] = df[\"Date\"].dt.month\n",
    "df[\"Year\"] = df[\"Date\"].dt.year\n",
    "df[\"Q\"] = df[\"Date\"].dt.quarter\n",
    "df[\"Dayofyear\"] = df[\"Date\"].dt.dayofyear\n",
    "df[\"Dayofmonth\"] = df[\"Date\"].dt.day\n",
    "df[\"Weekofyear\"] = df[\"Date\"].dt.isocalendar().week\n",
    "#df[\"Temperature\"]=temperature[\"T2MDEW\"].astype('int')"
   ],
   "outputs": [],
   "execution_count": null
  },
  {
   "cell_type": "code",
   "id": "a7493afc",
   "metadata": {
    "id": "a7493afc"
   },
   "source": [
    "df[\"Holiday\"] = 0;\n",
    "for i in range(0,len(df[\"Dayofmonth\"])):\n",
    "    if(df['Dayofmonth'][i] == 1 and df[\"Month\"][i] == 1):\n",
    "        df.loc[ i, 'Holiday']  = 1\n",
    "        \n",
    "    elif(df['Dayofmonth'][i] == 21 and df[\"Month\"][i] == 2):\n",
    "        df.loc[ i, 'Holiday']  = 1\n",
    "        \n",
    "    elif(df['Dayofmonth'][i] == 15 and df[\"Month\"][i] == 4):\n",
    "        df.loc[ i, 'Holiday']  = 1\n",
    "        \n",
    "    elif(df['Dayofmonth'][i] == 18 and df[\"Month\"][i] == 4):\n",
    "        df.loc[ i, 'Holiday']  = 1\n",
    "        \n",
    "    elif(df['Dayofmonth'][i] == 23 and df[\"Month\"][i] == 5):\n",
    "        df.loc[ i, 'Holiday']  = 1\n",
    "        \n",
    "    elif(df['Dayofmonth'][i] == 1 and df[\"Month\"][i] == 7):\n",
    "        df.loc[ i, 'Holiday']  = 1\n",
    "        \n",
    "    elif(df['Dayofmonth'][i] == 1 and df[\"Month\"][i] == 8):\n",
    "        df.loc[ i, 'Holiday']  = 1\n",
    "        \n",
    "    elif(df['Dayofmonth'][i] == 5 and df[\"Month\"][i] == 9):\n",
    "        df.loc[ i, 'Holiday']  = 1\n",
    "        \n",
    "    elif(df['Dayofmonth'][i] == 10 and df[\"Month\"][i] == 10):\n",
    "        df.loc[ i, 'Holiday']  = 1\n",
    "        \n",
    "    elif(df['Dayofmonth'][i] == 25 and df[\"Month\"][i] == 12):\n",
    "        df.loc[ i, 'Holiday']  = 1\n",
    "        \n",
    "    elif(df['Dayofmonth'][i] == 26 and df[\"Month\"][i] == 12):\n",
    "        df.loc[ i, 'Holiday']  = 1\n",
    "        \n",
    "        \n",
    "df.index = df[\"Date\"]\n",
    "df = df.drop([\"Date\"],axis=1)"
   ],
   "outputs": [],
   "execution_count": null
  },
  {
   "cell_type": "code",
   "id": "6bd82c39",
   "metadata": {
    "id": "6bd82c39"
   },
   "source": [
    "columns=[\"Day\",\"Month\",\"Q\",\"Dayofmonth\",\"Weekofyear\"]\n",
    "df[columns] = (df[columns]-df[columns].mean())/(df[columns].std())\n",
    "df[\"Total Energy Consumption\"] = df[\"Total Energy Consumption\"] / 1000000"
   ],
   "outputs": [],
   "execution_count": null
  },
  {
   "cell_type": "code",
   "id": "25ad7ee3",
   "metadata": {
    "colab": {
     "base_uri": "https://localhost:8080/",
     "height": 237
    },
    "id": "25ad7ee3",
    "outputId": "3bdab1a0-3f25-444d-cdc8-c6c750db9c5f"
   },
   "source": [
    "df.head()"
   ],
   "outputs": [],
   "execution_count": null
  },
  {
   "cell_type": "code",
   "id": "56cfaaf4",
   "metadata": {
    "id": "56cfaaf4"
   },
   "source": [
    "from statsmodels.graphics.tsaplots import plot_acf, plot_pacf\n",
    "cols=[\"Day\",\"Year\",\"Dayofyear\",\"Month\",\"Q\",\"Dayofmonth\",\"Weekofyear\",\"Holiday\"]\n",
    "for i in range(0,len(cols)):\n",
    "    df = df.drop(cols[i], axis = 1)"
   ],
   "outputs": [],
   "execution_count": null
  },
  {
   "cell_type": "markdown",
   "id": "OLfA2ryz7Mzj",
   "metadata": {
    "id": "OLfA2ryz7Mzj"
   },
   "source": [
    "#**Define Train and Test**"
   ]
  },
  {
   "cell_type": "code",
   "id": "db0f4876",
   "metadata": {
    "colab": {
     "base_uri": "https://localhost:8080/"
    },
    "id": "db0f4876",
    "outputId": "e9adbd6e-59dc-4250-cde1-dfc6d0404b3a"
   },
   "source": [
    "train = df.iloc[:550] #Everything before 2021 \n",
    "test = df.iloc[550:] #Everything after 2021\n",
    "#print(train.shape,test.shape)\n",
    "print(test)"
   ],
   "outputs": [],
   "execution_count": null
  },
  {
   "cell_type": "markdown",
   "id": "sk-sy6l97Ri7",
   "metadata": {
    "id": "sk-sy6l97Ri7"
   },
   "source": [
    "#**FINDING CORRELATION BETWEEN ORIGINAL AND DIFFERENCES**"
   ]
  },
  {
   "cell_type": "code",
   "id": "dced3556",
   "metadata": {
    "colab": {
     "base_uri": "https://localhost:8080/",
     "height": 538
    },
    "id": "dced3556",
    "outputId": "f62a2f09-ffab-405e-844c-41398780260b"
   },
   "source": [
    "#This is used to find the d value\n",
    "\n",
    "col=train\n",
    "plt.rcParams.update({'figure.figsize':(25,10), 'figure.dpi':150})\n",
    "fig, axes = plt.subplots(2, 2, sharex=False)\n",
    "\n",
    "#plot original series with its ACF\n",
    "axes[0, 0].plot(col);axes[0,0].set_title('Original Series')\n",
    "plot_acf(col, ax=axes[0,1],lags=150)\n",
    "\n",
    "#plot 1st difference with its ACF\n",
    "axes[1,0].plot(col.diff()); axes[1,0].set_title('First Difference')\n",
    "plot_acf(col.diff().dropna(), ax=axes[1,1],lags=150)\n",
    "\n",
    "plt.show()\n",
    "#We can see all the lags by replacing 150 with col.shape[0]-1 for original series and col.shape[0]-2 for 1st differencing"
   ],
   "outputs": [],
   "execution_count": null
  },
  {
   "cell_type": "code",
   "id": "168a54c0",
   "metadata": {
    "colab": {
     "base_uri": "https://localhost:8080/"
    },
    "id": "168a54c0",
    "outputId": "dd7cfb49-3ee8-461d-be4e-c491325ab2a4"
   },
   "source": [
    "#Find p-value to check if we need more differencing\n",
    "\n",
    "#For original series\n",
    "result=adfuller(col.dropna())\n",
    "print(\"p-value: \",result[1])\n",
    "\n",
    "#For first difference\n",
    "result=adfuller(col.diff().dropna())\n",
    "print(\"p-value: \", result[1])\n",
    "\n",
    "#Perform ADF test to make sure how much differencing we need\n",
    "ndiffs(col, test='adf') #We get d=1 here which proves our point\n",
    "\n",
    "#So, take d=1 since 9.35e-08 < 0.05 and fastest converging to 0 as a first assumption"
   ],
   "outputs": [],
   "execution_count": null
  },
  {
   "cell_type": "code",
   "id": "1e69d634",
   "metadata": {
    "colab": {
     "base_uri": "https://localhost:8080/",
     "height": 355
    },
    "id": "1e69d634",
    "outputId": "e838b01b-aac4-4a2b-b6d8-11a4ed5dc0fc",
    "scrolled": true
   },
   "source": [
    "#This is used to find the p value\n",
    "\n",
    "plt.rcParams.update({'figure.figsize':(25,5), 'figure.dpi':120})\n",
    "fig, axes = plt.subplots(1, 2, sharex=False)\n",
    "\n",
    "#Here, we plot the PACF of the first difference since we already decided to use d=1\n",
    "axes[0].plot(col.diff()); axes[0].set_title('First Difference')\n",
    "plot_pacf(col.diff().dropna(), ax=axes[1], lags=150)\n",
    "\n",
    "\n",
    "plt.show()\n",
    "\n",
    "#So, take p = 5 since we notice at least 5 significant jumps over the confidence level in the PACF. "
   ],
   "outputs": [],
   "execution_count": null
  },
  {
   "cell_type": "markdown",
   "id": "fcee2098",
   "metadata": {
    "id": "fcee2098"
   },
   "source": [
    "We can see a number of lags in the ACF crossing the threshold by well above the line, so choose q=4 for now since there seems to be 4 significant levels above the confidence threshold.  \n",
    "\n",
    "So, we have ARIMA(4,1,5)"
   ]
  },
  {
   "cell_type": "markdown",
   "id": "twndD4vJ7Wi1",
   "metadata": {
    "id": "twndD4vJ7Wi1"
   },
   "source": [
    "#**Implement Intuition ARIMA model**"
   ]
  },
  {
   "cell_type": "code",
   "id": "aff222f8",
   "metadata": {
    "colab": {
     "base_uri": "https://localhost:8080/",
     "height": 54
    },
    "id": "aff222f8",
    "outputId": "973536ef-0005-4e88-e2a4-dcba83a7a8f4"
   },
   "source": [
    "'''intuition_arima_model = ARIMA(col,order=(4,1,5))\n",
    "intuition_arima_model_fit = intuition_arima_model.fit()\n",
    "warnings.filterwarnings(\"ignore\")\n",
    "print(intuition_arima_model_fit.summary())'''"
   ],
   "outputs": [],
   "execution_count": null
  },
  {
   "cell_type": "markdown",
   "id": "VPiuWBYI7irM",
   "metadata": {
    "id": "VPiuWBYI7irM"
   },
   "source": [
    "#**Residuals and Density**"
   ]
  },
  {
   "cell_type": "code",
   "id": "9896fc76",
   "metadata": {
    "colab": {
     "base_uri": "https://localhost:8080/",
     "height": 54
    },
    "id": "9896fc76",
    "outputId": "43ceb244-d186-4ab2-8407-dd9985f68d74"
   },
   "source": [
    "'''resids = pd.DataFrame(intuition_arima_model_fit.resid)\n",
    "fig, ax = plt.subplots(1,2)\n",
    "\n",
    "resids.plot(title=\"Residuals\", ax=ax[0])\n",
    "resids.plot(kind='kde', title='Density', ax=ax[1])\n",
    "\n",
    "\n",
    "plt.show()\n",
    "\n",
    "#Results show that the mean is nearly zero and that there is uniform variance troughout the data'''"
   ],
   "outputs": [],
   "execution_count": null
  },
  {
   "cell_type": "markdown",
   "id": "Pk_NgyMx7wTx",
   "metadata": {
    "id": "Pk_NgyMx7wTx"
   },
   "source": [
    "#**Implement AUTO ARIMA Model**"
   ]
  },
  {
   "cell_type": "markdown",
   "id": "I0Ha-FN37mbG",
   "metadata": {
    "id": "I0Ha-FN37mbG"
   },
   "source": [
    "#**Stationarize through Differencing**"
   ]
  },
  {
   "cell_type": "code",
   "id": "4d4f99e3",
   "metadata": {
    "colab": {
     "base_uri": "https://localhost:8080/"
    },
    "id": "4d4f99e3",
    "outputId": "dbcdc46a-7110-4885-deb0-90c9db15c17e"
   },
   "source": [
    "df1 = df[\"Total Energy Consumption\"].diff().dropna()\n",
    "results = adfuller(df1)\n",
    "print(results)\n",
    "#Here, we obtain the same p-value eariler obtained by performing the ADF Test"
   ],
   "outputs": [],
   "execution_count": null
  },
  {
   "cell_type": "markdown",
   "id": "9Xj5kxLQ7q6J",
   "metadata": {
    "id": "9Xj5kxLQ7q6J"
   },
   "source": [
    "#**New Train and Test**"
   ]
  },
  {
   "cell_type": "code",
   "id": "4eb1c8a2",
   "metadata": {
    "colab": {
     "base_uri": "https://localhost:8080/"
    },
    "id": "4eb1c8a2",
    "outputId": "54824a90-a51e-4819-cab3-31f001966b22"
   },
   "source": [
    "train_new = df1.iloc[:550] #Everything before 2021 \n",
    "test_new = df1.iloc[550:] #Everything after 2021\n",
    "#print(train.shape,test.shape)\n",
    "print(test_new)"
   ],
   "outputs": [],
   "execution_count": null
  },
  {
   "cell_type": "markdown",
   "id": "-0CSQrKh71ru",
   "metadata": {
    "id": "-0CSQrKh71ru"
   },
   "source": [
    "#**Stationarize through Differencing**"
   ]
  },
  {
   "cell_type": "code",
   "id": "300f9373",
   "metadata": {
    "colab": {
     "base_uri": "https://localhost:8080/",
     "height": 1000
    },
    "id": "300f9373",
    "outputId": "5a451c3b-49ba-480d-cb4d-1e07ef57f0e5"
   },
   "source": [
    "warnings.filterwarnings(\"ignore\")\n",
    "auto_arima_model = auto_arima(train_new,trace=True, suppress_warnings=True)\n",
    "auto_arima_model.summary()"
   ],
   "outputs": [],
   "execution_count": null
  },
  {
   "cell_type": "markdown",
   "id": "J8_FU7x5784-",
   "metadata": {
    "id": "J8_FU7x5784-"
   },
   "source": [
    "#**Match to Test Set**"
   ]
  },
  {
   "cell_type": "code",
   "id": "f90b09d1",
   "metadata": {
    "id": "f90b09d1",
    "scrolled": true
   },
   "source": [
    "prediction=pd.DataFrame(auto_arima_model.predict(n_periods=181),index=test_new.index)\n",
    "prediction.columns=[\"Predicted Values\"]"
   ],
   "outputs": [],
   "execution_count": null
  },
  {
   "cell_type": "code",
   "id": "12ce1ba9",
   "metadata": {
    "colab": {
     "base_uri": "https://localhost:8080/",
     "height": 528
    },
    "id": "12ce1ba9",
    "outputId": "94396cfb-b45d-47ff-ff42-5f5d768244db"
   },
   "source": [
    "plt.figure(figsize=(25,10))\n",
    "plt.plot(test_new,label=\"Testing Values\")\n",
    "plt.plot(prediction,label=\"Predicted Values\")\n",
    "plt.legend(loc='upper left')\n",
    "plt.show()"
   ],
   "outputs": [],
   "execution_count": null
  },
  {
   "cell_type": "markdown",
   "id": "AztL9Wwg8Apy",
   "metadata": {
    "id": "AztL9Wwg8Apy"
   },
   "source": [
    "#**Evaluation Metrics**"
   ]
  },
  {
   "cell_type": "code",
   "id": "8b982987",
   "metadata": {
    "id": "8b982987"
   },
   "source": [
    "def forecast_accuracy(forecast, actual):\n",
    "    mape = np.mean(np.abs(forecast - actual)/np.abs(actual)); mse = mean_squared_error(actual,forecast)\n",
    "    me = np.mean(forecast - actual)             # ME\n",
    "    mae = np.mean(np.abs(forecast - actual))    # MAE\n",
    "    mpe = np.mean((forecast - actual)/actual)   # MPE\n",
    "    rmse = np.mean((forecast - actual)**2)**.5  # RMSE\n",
    "    corr = np.corrcoef(forecast, actual)[0,1]   # corr\n",
    "    mins = np.amin(np.hstack([forecast[:,None], \n",
    "                              actual[:,None]]), axis=1)\n",
    "    maxs = np.amax(np.hstack([forecast[:,None], \n",
    "                              actual[:,None]]), axis=1)\n",
    "    minmax = 1 - np.mean(mins/maxs)             # minmax\n",
    "    return({'mape':mape, 'me':me, 'mae': mae, \n",
    "            'mpe': mpe, 'rmse':rmse,\n",
    "            'corr':corr, 'minmax':minmax, 'mse':mse})"
   ],
   "outputs": [],
   "execution_count": null
  },
  {
   "cell_type": "code",
   "id": "f471493b",
   "metadata": {
    "colab": {
     "base_uri": "https://localhost:8080/"
    },
    "id": "f471493b",
    "outputId": "75ae4c21-8a46-44d6-d383-a2860325a647",
    "ExecuteTime": {
     "end_time": "2024-09-04T05:41:28.432977Z",
     "start_time": "2024-09-04T05:41:28.431976Z"
    }
   },
   "source": [
    "x = np.array(prediction)\n",
    "y = np.array(test_new)\n",
    "z = np.concatenate(x)\n",
    "forecast_accuracy(z*1000000,y*1000000)"
   ],
   "outputs": [],
   "execution_count": null
  }
 ],
 "metadata": {
  "colab": {
   "provenance": []
  },
  "kernelspec": {
   "display_name": "Python 3",
   "language": "python",
   "name": "python3"
  },
  "language_info": {
   "codemirror_mode": {
    "name": "ipython",
    "version": 3
   },
   "file_extension": ".py",
   "mimetype": "text/x-python",
   "name": "python",
   "nbconvert_exporter": "python",
   "pygments_lexer": "ipython3",
   "version": "3.11.1"
  }
 },
 "nbformat": 4,
 "nbformat_minor": 5
}
